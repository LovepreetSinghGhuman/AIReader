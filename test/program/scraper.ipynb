{
 "cells": [
  {
   "cell_type": "code",
   "execution_count": 5,
   "metadata": {},
   "outputs": [
    {
     "name": "stderr",
     "output_type": "stream",
     "text": [
      "<>:9: SyntaxWarning: invalid escape sequence '\\p'\n",
      "<>:9: SyntaxWarning: invalid escape sequence '\\p'\n",
      "C:\\Users\\Lovepreet Singh\\AppData\\Local\\Temp\\ipykernel_16196\\1197057790.py:9: SyntaxWarning: invalid escape sequence '\\p'\n",
      "  DOWNLOAD_FOLDER = \"test\\pdf's\"  # Folder to save downloaded PDFs\n"
     ]
    },
    {
     "name": "stdout",
     "output_type": "stream",
     "text": [
      "Scraping page 1...\n",
      "Downloaded: DANS-Data-Stations-Policy.pdf\n",
      "Scraping page 2...\n",
      "Downloaded: DANS-Data-Stations-Policy.pdf\n",
      "Scraping page 3...\n",
      "Downloaded: DANS-Data-Stations-Policy.pdf\n",
      "Scraping and downloading complete! Downloaded 3 PDFs.\n"
     ]
    }
   ],
   "source": [
    "import requests\n",
    "from bs4 import BeautifulSoup\n",
    "import os\n",
    "import time\n",
    "\n",
    "# Configuration\n",
    "BASE_URL = \"https://www.narcis.nl/search?q=\"  # Replace with the target website\n",
    "QUERY = \"klimaatverandering\"  # Replace with your search query\n",
    "DOWNLOAD_FOLDER = \"test\\pdf's\"  # Folder to save downloaded PDFs\n",
    "DELAY = 2  # Delay between requests (in seconds)\n",
    "PAGES_TO_SCRAPE = 3  # Number of pages to scrape\n",
    "MAX_PDFS = 5  # Maximum number of PDFs to download\n",
    "\n",
    "# Create download folder if it doesn't exist\n",
    "if not os.path.exists(DOWNLOAD_FOLDER):\n",
    "    os.makedirs(DOWNLOAD_FOLDER)\n",
    "\n",
    "def download_pdf(pdf_url, folder):\n",
    "    \"\"\"Download a PDF file from a given URL and save it to the specified folder.\"\"\"\n",
    "    try:\n",
    "        pdf_response = requests.get(pdf_url)\n",
    "        pdf_name = os.path.basename(pdf_url)  # Extract the PDF file name\n",
    "        save_path = os.path.join(folder, pdf_name)\n",
    "        with open(save_path, \"wb\") as pdf_file:\n",
    "            pdf_file.write(pdf_response.content)\n",
    "        print(f\"Downloaded: {pdf_name}\")\n",
    "        return True  # Return True if download is successful\n",
    "    except Exception as e:\n",
    "        print(f\"Failed to download {pdf_url}: {e}\")\n",
    "        return False  # Return False if download fails\n",
    "\n",
    "def scrape_pdf_links(url):\n",
    "    \"\"\"Scrape PDF links from a given URL.\"\"\"\n",
    "    try:\n",
    "        response = requests.get(url)\n",
    "        response.raise_for_status()  # Raise an error for bad status codes\n",
    "        soup = BeautifulSoup(response.content, \"html.parser\")\n",
    "\n",
    "        # Find all links ending with \".pdf\"\n",
    "        pdf_links = soup.find_all(\"a\", href=lambda href: (href and href.endswith(\".pdf\")))\n",
    "        return [link.get(\"href\") for link in pdf_links]\n",
    "    except Exception as e:\n",
    "        print(f\"Failed to scrape {url}: {e}\")\n",
    "        return []\n",
    "\n",
    "def main():\n",
    "    pdf_count = 0  # Counter for downloaded PDFs\n",
    "\n",
    "    # Scrape multiple pages\n",
    "    for page in range(1, PAGES_TO_SCRAPE + 1):\n",
    "        if pdf_count >= MAX_PDFS:\n",
    "            break  # Stop if the maximum number of PDFs is reached\n",
    "\n",
    "        print(f\"Scraping page {page}...\")\n",
    "        url = f\"{BASE_URL}{QUERY}&page={page}\"  # Construct the URL for the current page\n",
    "        pdf_links = scrape_pdf_links(url)\n",
    "\n",
    "        # Download each PDF\n",
    "        for link in pdf_links:\n",
    "            if pdf_count >= MAX_PDFS:\n",
    "                break  # Stop if the maximum number of PDFs is reached\n",
    "\n",
    "            if not link.startswith(\"http\"):  # Handle relative URLs\n",
    "                link = BASE_URL + link\n",
    "\n",
    "            if download_pdf(link, DOWNLOAD_FOLDER):\n",
    "                pdf_count += 1  # Increment the counter if download is successful\n",
    "\n",
    "            # Add a delay between requests\n",
    "            time.sleep(DELAY)\n",
    "\n",
    "    print(f\"Scraping and downloading complete! Downloaded {pdf_count} PDFs.\")\n",
    "\n",
    "if __name__ == \"__main__\":\n",
    "    main()"
   ]
  }
 ],
 "metadata": {
  "kernelspec": {
   "display_name": "Python 3",
   "language": "python",
   "name": "python3"
  },
  "language_info": {
   "codemirror_mode": {
    "name": "ipython",
    "version": 3
   },
   "file_extension": ".py",
   "mimetype": "text/x-python",
   "name": "python",
   "nbconvert_exporter": "python",
   "pygments_lexer": "ipython3",
   "version": "3.12.0"
  }
 },
 "nbformat": 4,
 "nbformat_minor": 2
}
